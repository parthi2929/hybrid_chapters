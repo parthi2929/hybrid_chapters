{
 "cells": [
  {
   "cell_type": "markdown",
   "metadata": {},
   "source": [
    "# Notebook to Sub file Tex\n",
    "\n",
    "## Objective\n",
    "\n",
    "This script is part of the hybrid chapter workflow, and to be used when you have created a ipython notebook and want to convert it to sub file tex where its preamble is removed, and instead added from the style file from our hybrid template. This sub file can be compiled separately and also becomes part of chapter, when included in the main tex file. \n",
    "\n",
    "## Rules\n",
    "1. Try to name the notebook without any spaces (use underscore instead). \n",
    "2. Do not manually number the equations. Instead use align\n",
    "\n",
    "## Remember\n",
    "1. This only creates tex. You need to include it accordingly in main file. By default main tex has documentclass book, so recommended to add as a chapter.  \n",
    "\n",
    "## Input Parameters"
   ]
  },
  {
   "cell_type": "code",
   "execution_count": 33,
   "metadata": {
    "ExecuteTime": {
     "end_time": "2018-09-27T14:08:13.895319Z",
     "start_time": "2018-09-27T14:08:13.884325Z"
    }
   },
   "outputs": [],
   "source": [
    "source_file = \"../chapters/ipy_sample.ipynb\"  # file to be converted\n",
    "tex_output_folder = \"../chapters\"\n",
    "template_file = \"ipy2tex_subfile_template.tplx\"\n",
    "temp_folder = \"../tmp\"\n",
    "nbconvert_config_file = \"nbconvert_config.py\"\n",
    "\n",
    "import ntpath\n",
    "tex_file = ntpath.basename(source_file).split('.ipynb')[0] + \".tex\"\n",
    "tex_file_with_path_wo_ext = tex_output_folder + \"/\" + ntpath.basename(source_file).split('.ipynb')[0]"
   ]
  },
  {
   "cell_type": "markdown",
   "metadata": {},
   "source": [
    "## Steps\n",
    "\n",
    "1. Create the template file. This is optional once the file is created. It is here just to show whats going on in template mostly. \n",
    "2. Generate the tex file using the template file and ```nbconvert```.\n",
    "\n",
    "> A sample notebook is used to show the demo here\n",
    "\n",
    "### Create Template"
   ]
  },
  {
   "cell_type": "code",
   "execution_count": 34,
   "metadata": {
    "ExecuteTime": {
     "end_time": "2018-09-27T14:08:13.912309Z",
     "start_time": "2018-09-27T14:08:13.897319Z"
    }
   },
   "outputs": [
    {
     "name": "stdout",
     "output_type": "stream",
     "text": [
      "Overwriting ipy2tex_subfile_template.tplx\n"
     ]
    }
   ],
   "source": [
    "%%writefile $template_file\n",
    "\n",
    "((*- extends 'article.tplx' -*))\n",
    "\n",
    "% 1. CHANGE DOCUMENTCLASS TO STANDALONE\n",
    "((* block docclass *))\n",
    "\\documentclass[float=false,crop=false]{standalone}\n",
    "((* endblock docclass *))\n",
    "\n",
    "\n",
    "\n",
    "% 2. REMOVE PREAMBLE AND REPLACE WITH STYLE FILE INCLUSION\n",
    "((* block packages *))\n",
    "\\usepackage{../myipy2tex}  % NOTE WE ARE ASSSUMING THE STYLE FILE TO BE ONE FOLDER ABOVE\n",
    "\n",
    "% if you need to cross reference to any raw tex file from this resultant tex file you  need to refer them here..\n",
    "% it is not needed when you compile main.tex but make sure the labels are unique\n",
    "\\IfEq{\\jobname}{\\detokenize{main}}{}{%\n",
    "    \\externaldocument{raw_sample} \n",
    "} \n",
    "\n",
    "\n",
    "((* endblock packages *))\n",
    "((* block definitions *))\n",
    "((* endblock definitions *))\n",
    "((* block commands *))\n",
    "((* endblock commands *))\n",
    "\n",
    "% Draw a figure using the graphicx package. Min size due to tikzmagic outputs being too shrinked.\n",
    "((* macro draw_figure(filename) -*))\n",
    "((* set filename = filename | posix_path *))\n",
    "((*- block figure scoped -*))\n",
    "    \\begin{center}\n",
    "    \\adjustimage{max size={0.9\\linewidth}{0.9\\paperheight},min size={0.5\\linewidth}{!}}{((( filename )))}\n",
    "    \\end{center}\n",
    "    { \\hspace*{\\fill} \\\\}\n",
    "((*- endblock figure -*))\n",
    "((*- endmacro *))\n",
    "\n",
    "\n",
    "% 3. BELOW STUFF ARE JUST FOR CODE CELL CORRECTIONS TO GET LINES WRAPPED PROPERLY..\n",
    "%===============================================================================\n",
    "% Input\n",
    "%===============================================================================\n",
    "\n",
    "((* block input scoped *))\n",
    "    ((*- if 'to_remove' in cell.metadata.get('tags', []) -*))  % remove input part of cells with tag to_remove\n",
    "    %((- if cell.metadata.hide_input -))\n",
    "    ((*- else -*))\n",
    "        ((( custom_add_prompt(cell.source | wrap_text(88) | highlight_code(strip_verbatim=True), cell, 'In', 'incolor') )))    \n",
    "    ((*- endif -*))\n",
    "((* endblock input *))\n",
    "\n",
    "%===============================================================================\n",
    "% Output\n",
    "%===============================================================================\n",
    "\n",
    "% Display stream ouput with coloring\n",
    "((* block stream *))\n",
    "    \\begin{Verbatim}[commandchars=\\\\\\{\\},fontsize=\\footnotesize]\n",
    "((( output.text | wrap_text(86) | escape_latex | ansi2latex )))\n",
    "    \\end{Verbatim}\n",
    "((* endblock stream *))\n",
    "\n",
    "%==============================================================================\n",
    "% Define macro custom_add_prompt() (derived from add_prompt() macro in style_ipython.tplx)\n",
    "%==============================================================================\n",
    "\n",
    "((* macro custom_add_prompt(text, cell, prompt, prompt_color) -*))\n",
    "    ((*- if cell.execution_count is defined -*))\n",
    "    ((*- set execution_count = \"\" ~ (cell.execution_count | replace(None, \" \")) -*))\n",
    "    ((*- else -*))\n",
    "    ((*- set execution_count = \" \" -*))\n",
    "    ((*- endif -*))\n",
    "    ((*- set indention =  \" \" * (execution_count | length + 7) -*))\n",
    "\\begin{((( prompt ~ 'Verbatim')))}[commandchars=\\\\\\{\\},fontsize=\\scriptsize]\n",
    "((( text | add_prompts(first='{\\color{' ~ prompt_color ~ '}' ~ prompt ~ '[{\\\\color{' ~ prompt_color ~ '}' ~ execution_count ~ '}]:} ', cont=indention) )))\n",
    "\\end{((( prompt ~ 'Verbatim')))}\n",
    "((*- endmacro *))"
   ]
  },
  {
   "cell_type": "markdown",
   "metadata": {},
   "source": [
    "### Create Tex\n",
    "\n",
    "By default, the attachments in markdown cells are not exported, so we will have a small config file to force that as well"
   ]
  },
  {
   "cell_type": "code",
   "execution_count": 35,
   "metadata": {
    "ExecuteTime": {
     "end_time": "2018-09-27T14:08:13.927302Z",
     "start_time": "2018-09-27T14:08:13.914309Z"
    }
   },
   "outputs": [
    {
     "name": "stdout",
     "output_type": "stream",
     "text": [
      "Overwriting nbconvert_config.py\n"
     ]
    }
   ],
   "source": [
    "%%writefile $nbconvert_config_file\n",
    "\n",
    "c.NbConvertApp.export_format = 'latex'\n",
    "c.LatexExporter.preprocessors = [\n",
    "    'extract_attachments.ExtractAttachmentsPreprocessor'  # custom preprocessor from extract_attachments.py\n",
    "    ]"
   ]
  },
  {
   "cell_type": "code",
   "execution_count": null,
   "metadata": {
    "scrolled": false
   },
   "outputs": [],
   "source": [
    "!jupyter nbconvert --log-level='DEBUG' --template \"$template_file\" \"$source_file\" --output-dir=\"$tex_output_folder\" --config \"$nbconvert_config_file\""
   ]
  }
 ],
 "metadata": {
  "kernelspec": {
   "display_name": "Python [conda env:Anaconda3]",
   "language": "python",
   "name": "conda-env-Anaconda3-py"
  },
  "language_info": {
   "codemirror_mode": {
    "name": "ipython",
    "version": 3
   },
   "file_extension": ".py",
   "mimetype": "text/x-python",
   "name": "python",
   "nbconvert_exporter": "python",
   "pygments_lexer": "ipython3",
   "version": "3.6.4"
  },
  "toc": {
   "base_numbering": 1,
   "nav_menu": {},
   "number_sections": true,
   "sideBar": true,
   "skip_h1_title": false,
   "title_cell": "Table of Contents",
   "title_sidebar": "Contents",
   "toc_cell": false,
   "toc_position": {
    "height": "calc(100% - 180px)",
    "left": "10px",
    "top": "150px",
    "width": "166px"
   },
   "toc_section_display": true,
   "toc_window_display": true
  }
 },
 "nbformat": 4,
 "nbformat_minor": 2
}
